{
 "cells": [
  {
   "cell_type": "code",
   "execution_count": 6,
   "id": "415db1ca-478d-48f4-bff1-2e2c7ba58d17",
   "metadata": {},
   "outputs": [
    {
     "name": "stdout",
     "output_type": "stream",
     "text": [
      "2.1.0\n"
     ]
    }
   ],
   "source": [
    "#write a python code to check the version of numby\n",
    "import numpy as np\n",
    "print(np.__version__)"
   ]
  },
  {
   "cell_type": "code",
   "execution_count": 10,
   "id": "d81b5ebd-3ab9-40c8-96fd-b0e7933d5baf",
   "metadata": {},
   "outputs": [
    {
     "name": "stdout",
     "output_type": "stream",
     "text": [
      "True\n",
      "False\n"
     ]
    }
   ],
   "source": [
    "#write a python program to test if any of the element of the give array are non zero\n",
    "import numpy as np\n",
    "x=np.array ([1,0,0,0,0])\n",
    "print(np.any(x))\n",
    "x=np.array([0,0,0,0,0])\n",
    "print(np.any(x))"
   ]
  },
  {
   "cell_type": "code",
   "execution_count": 12,
   "id": "27bea858-c0d9-4eff-832f-43fd5aff10f1",
   "metadata": {},
   "outputs": [
    {
     "name": "stdout",
     "output_type": "stream",
     "text": [
      "[ 1.  0. nan inf]\n",
      "test a given element wise for finiteness:\n",
      "[ True  True False False]\n"
     ]
    }
   ],
   "source": [
    "#write a python program to test given array element wise for finiteness \n",
    "import numpy as np\n",
    "x=np.array([1,0,np.nan,np.inf])\n",
    "print (x)\n",
    "print(\"test a given element wise for finiteness:\")\n",
    "print (np.isfinite(x))"
   ]
  },
  {
   "cell_type": "code",
   "execution_count": 17,
   "id": "5c1f0724-f77a-4fda-864d-7c1f4851aaed",
   "metadata": {},
   "outputs": [
    {
     "name": "stdout",
     "output_type": "stream",
     "text": [
      "[False False  True False False False]\n",
      "[False False False  True False False]\n"
     ]
    }
   ],
   "source": [
    "#write a python program to test elementwise positive or negative infinity \n",
    "import numpy as np\n",
    "gray=np.array([1,-2,np.inf,-np.inf,0,3.5])\n",
    "result_pos_inf=np.isposinf(gray)\n",
    "result_neg_inf=np.isneginf(gray)\n",
    "print(result_pos_inf)\n",
    "print(result_neg_inf)\n"
   ]
  },
  {
   "cell_type": "code",
   "execution_count": 22,
   "id": "e456bdee-4ad4-410f-9ae0-164a46525b04",
   "metadata": {},
   "outputs": [
    {
     "name": "stdout",
     "output_type": "stream",
     "text": [
      "[30 31 32 33 34 35 36 37 38 39 40 41 42 43 44 45 46 47 48 49 50 51 52 53\n",
      " 54 55 56 57 58 59 60 61 62 63 64 65 66 67 68 69 70]\n"
     ]
    }
   ],
   "source": [
    "#write a python program to create an array of integers from 30 to 70\n",
    "import numpy as np\n",
    "array=np.arange(30,71)\n",
    "print(array)\n"
   ]
  },
  {
   "cell_type": "code",
   "execution_count": 23,
   "id": "0d340966-066c-435b-9eff-c1da68b03bfd",
   "metadata": {},
   "outputs": [
    {
     "name": "stdout",
     "output_type": "stream",
     "text": [
      "[30 32 34 36 38 40 42 44 46 48 50 52 54 56 58 60 62 64 66 68 70]\n"
     ]
    }
   ],
   "source": [
    "import numpy as np\n",
    "array=np.arange(30,71,2)\n",
    "print(array)"
   ]
  },
  {
   "cell_type": "code",
   "execution_count": 25,
   "id": "60277576-1acd-440c-a6e5-1e0f2e9bcd9b",
   "metadata": {},
   "outputs": [
    {
     "name": "stdout",
     "output_type": "stream",
     "text": [
      "[[1. 0. 0.]\n",
      " [0. 1. 0.]\n",
      " [0. 0. 1.]]\n"
     ]
    }
   ],
   "source": [
    "#write a python indentity matrix\n",
    "import numpy as np \n",
    "arr_2d=np.identity (3)\n",
    "print(arr_2d)"
   ]
  },
  {
   "cell_type": "code",
   "execution_count": 26,
   "id": "6fb3c619-b716-4808-afea-05a75749f503",
   "metadata": {},
   "outputs": [
    {
     "name": "stdout",
     "output_type": "stream",
     "text": [
      "[[1 0 0 0 0]\n",
      " [0 2 0 0 0]\n",
      " [0 0 3 0 0]\n",
      " [0 0 0 4 0]\n",
      " [0 0 0 0 5]]\n"
     ]
    }
   ],
   "source": [
    "#write a python program to create a 5x5 xero matrix with element on the main diagonal equal to 1,2,3,4,5\n",
    "import numpy as np\n",
    "x=np.diag([1,2,3,4,5])\n",
    "print(x)"
   ]
  },
  {
   "cell_type": "code",
   "execution_count": 30,
   "id": "606dab06-2504-4c6e-b141-3153fc04f56f",
   "metadata": {},
   "outputs": [
    {
     "name": "stdout",
     "output_type": "stream",
     "text": [
      "[[3 1]\n",
      " [5 3]]\n",
      "[[3 1]\n",
      " [5 3]]\n"
     ]
    }
   ],
   "source": [
    "#write a pyhton product to generate product of two arrays\n",
    "import numpy as np\n",
    "x=[[1,0],[1,1]]\n",
    "y=[[3,1],[2,2]]\n",
    "print (np.dot (x,y))\n",
    "print (np.matmul (x,y))"
   ]
  },
  {
   "cell_type": "code",
   "execution_count": 34,
   "id": "928bc314-6542-454a-af10-15086ba28e45",
   "metadata": {},
   "outputs": [
    {
     "name": "stdout",
     "output_type": "stream",
     "text": [
      "[31 33 35 37 39 41]\n"
     ]
    }
   ],
   "source": [
    "#addition & subtraction\n",
    "import numpy as np\n",
    "x1=np.array ([10,11,12,13,14,15])\n",
    "x2=np.array([21,22,23,24,25,26])\n",
    "add=np.add(x1,x2)\n",
    "print(add)"
   ]
  },
  {
   "cell_type": "code",
   "execution_count": 35,
   "id": "91511873-b74f-47a5-856f-d02ff5814778",
   "metadata": {},
   "outputs": [
    {
     "name": "stdout",
     "output_type": "stream",
     "text": [
      "30.0\n"
     ]
    }
   ],
   "source": [
    "#write a python program to find the mean of one D array\n",
    "import numpy as np\n",
    "x1=np.array([10,20,30,40,50])\n",
    "me=np.mean(x1)\n",
    "print(me)"
   ]
  },
  {
   "cell_type": "code",
   "execution_count": 40,
   "id": "9656bf63-0bcf-4179-8522-0cd2555dbf88",
   "metadata": {},
   "outputs": [
    {
     "name": "stdout",
     "output_type": "stream",
     "text": [
      "original array\n",
      "[[10 30]\n",
      " [20 60]]\n",
      "mean of each coloumn\n",
      "[15. 45.]\n",
      "mean of each row\n",
      "[20. 40.]\n"
     ]
    }
   ],
   "source": [
    "import numpy as np\n",
    "x=np.array([[10,30],[20,60]])\n",
    "print(\"original array\")\n",
    "print (x)\n",
    "print (\"mean of each coloumn\")\n",
    "print (x.mean(axis=0))\n",
    "print(\"mean of each row\")\n",
    "print(x.mean(axis=1))"
   ]
  },
  {
   "cell_type": "code",
   "execution_count": 43,
   "id": "34d052a8-809d-4539-8b36-822b61c8cf86",
   "metadata": {},
   "outputs": [
    {
     "name": "stdout",
     "output_type": "stream",
     "text": [
      "[0 1 2 3 4 5 6 7 8 9]\n"
     ]
    }
   ],
   "source": [
    "#write a python program to create 1D array in range o to 9\n",
    "import numpy as np\n",
    "x=np.array([0,1,2,3,4,5,6,7,8,9])\n",
    "print(x)"
   ]
  },
  {
   "cell_type": "code",
   "execution_count": 46,
   "id": "e43bbafc-b14f-412f-9d02-1b566d19d40e",
   "metadata": {},
   "outputs": [
    {
     "name": "stdout",
     "output_type": "stream",
     "text": [
      "[ 0  1  2  3  4  5  6  7  8  9 10 12]\n",
      "[[ 0  1  2  3]\n",
      " [ 4  5  6  7]\n",
      " [ 8  9 10 12]]\n"
     ]
    }
   ],
   "source": [
    "#write a python program to convert 1D array to 2d array\n",
    "import numpy as np\n",
    "x=np.array([0,1,2,3,4,5,6,7,8,9,10,12])\n",
    "y=x.reshape(3,4)\n",
    "print(x)\n",
    "print(y)"
   ]
  }
 ],
 "metadata": {
  "kernelspec": {
   "display_name": "Python 3 (ipykernel)",
   "language": "python",
   "name": "python3"
  },
  "language_info": {
   "codemirror_mode": {
    "name": "ipython",
    "version": 3
   },
   "file_extension": ".py",
   "mimetype": "text/x-python",
   "name": "python",
   "nbconvert_exporter": "python",
   "pygments_lexer": "ipython3",
   "version": "3.12.5"
  }
 },
 "nbformat": 4,
 "nbformat_minor": 5
}
