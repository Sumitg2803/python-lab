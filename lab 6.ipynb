{
 "cells": [
  {
   "cell_type": "code",
   "execution_count": 1,
   "id": "89a699a9-a68c-44be-9226-f812cce1d393",
   "metadata": {},
   "outputs": [
    {
     "name": "stdout",
     "output_type": "stream",
     "text": [
      "[2, 4, 6, 8, 10, 12, 14, 16, 18, 20, 22, 24, 26, 28, 30, 32, 34, 36, 38, 40, 42, 44, 46, 48, 50, 52, 54, 56, 58, 60, 62, 64, 66, 68, 70, 72, 74, 76, 78, 80, 82, 84, 86, 88, 90, 92, 94, 96, 98, 100]\n"
     ]
    }
   ],
   "source": [
    "num=[num for num in range (1,101) if num %2==0]\n",
    "print (num)"
   ]
  },
  {
   "cell_type": "code",
   "execution_count": 3,
   "id": "420a5437-e51d-4e1e-bb04-e96990aaf93d",
   "metadata": {},
   "outputs": [
    {
     "name": "stdout",
     "output_type": "stream",
     "text": [
      "[3, 6, 9, 12, 15, 18, 21, 24, 27, 30, 33, 36, 39, 42, 45, 48, 51, 54, 57, 60, 63, 66, 69, 72, 75, 78, 81, 84, 87, 90, 93, 96, 99]\n"
     ]
    }
   ],
   "source": [
    "#write a program to print the numbers divisible by 3 by using list comprehenstion\n",
    "num=[ num for num in range (1,101) if num%3==0]\n",
    "print (num)"
   ]
  },
  {
   "cell_type": "code",
   "execution_count": 5,
   "id": "3bcaeed0-be3e-4735-ac05-cf6da6415482",
   "metadata": {},
   "outputs": [
    {
     "name": "stdout",
     "output_type": "stream",
     "text": [
      "[]\n"
     ]
    }
   ],
   "source": [
    "#write a program to print numbers from 100 to 1 by using list comprehenstion\n",
    "num=[num for num in range (100,0,1)]\n",
    "print (num)"
   ]
  },
  {
   "cell_type": "code",
   "execution_count": 8,
   "id": "93e0f9d7-4657-4118-a453-f2f0fe26c441",
   "metadata": {},
   "outputs": [
    {
     "name": "stdout",
     "output_type": "stream",
     "text": [
      "[7, 14, 21, 28, 35, 42, 49, 56, 63, 70, 77, 84, 91, 98]\n"
     ]
    }
   ],
   "source": [
    "#write a programn to print number 1 to 100 divisible by 7\n",
    "num=[num for num in range (1,100) if num%7==0]\n",
    "print (num)"
   ]
  },
  {
   "cell_type": "code",
   "execution_count": 10,
   "id": "ffb671d5-3807-4ec5-922c-7345cafb61e2",
   "metadata": {},
   "outputs": [
    {
     "name": "stdout",
     "output_type": "stream",
     "text": [
      "[4, 16, 36, 64, 100, 144, 196, 256, 324, 400, 484, 576, 676, 784, 900, 1024, 1156, 1296, 1444, 1600, 1764, 1936, 2116, 2304, 2500, 2704, 2916, 3136, 3364, 3600, 3844, 4096, 4356, 4624, 4900, 5184, 5476, 5776, 6084, 6400, 6724, 7056, 7396, 7744, 8100, 8464, 8836, 9216, 9604]\n"
     ]
    }
   ],
   "source": [
    "#write a program to create list of squres of even numbers 1 to 100\n",
    "num=[num**2 for num in range (1,100) if num%2==0]\n",
    "print (num)"
   ]
  },
  {
   "cell_type": "code",
   "execution_count": 2,
   "id": "91daace1-dff6-42dd-97ba-916dbf6f5a3f",
   "metadata": {},
   "outputs": [
    {
     "name": "stdout",
     "output_type": "stream",
     "text": [
      "{'a': 1, 'b': 2, 'c': 3, 'd': 4}\n"
     ]
    }
   ],
   "source": [
    "keys = ['a', 'b', 'c', 'd']\n",
    "values = [1, 2, 3, 4]\n",
    "my_dict = dict(zip(keys, values))\n",
    "print(my_dict)\n"
   ]
  },
  {
   "cell_type": "code",
   "execution_count": 5,
   "id": "6dae939f-b491-4ebb-8524-4f1ff6b7f70b",
   "metadata": {},
   "outputs": [
    {
     "name": "stdout",
     "output_type": "stream",
     "text": [
      "{'a': 1, 'b': 2, 'c': 3, 'd': 4}\n"
     ]
    }
   ],
   "source": [
    "keys = ['a', 'b', 'c', 'd']\n",
    "values = [1, 2, 3, 4]\n",
    "my_dict = {keys[i]: values[i] for i in range(len(keys))}\n",
    "print(my_dict)\n"
   ]
  },
  {
   "cell_type": "code",
   "execution_count": 6,
   "id": "2d39a93e-e774-4367-8774-2f967e1bef72",
   "metadata": {},
   "outputs": [
    {
     "name": "stdout",
     "output_type": "stream",
     "text": [
      "{'2': 4, '3': 9, '4': 16, '5': 25}\n"
     ]
    }
   ],
   "source": [
    "#write a program to create dictionary where are keys are numbers from 1 to 5 and the values are theis squares\n",
    "keys = ['2', '3', '4', '5']\n",
    "values = [4, 9, 16, 25]\n",
    "my_dict = {keys[i]: values[i] for i in range(len(keys))}\n",
    "print(my_dict)"
   ]
  },
  {
   "cell_type": "code",
   "execution_count": 7,
   "id": "eaf67ed8-60e2-4c2f-96a3-09d303952a5b",
   "metadata": {},
   "outputs": [
    {
     "name": "stdout",
     "output_type": "stream",
     "text": [
      "{100: 10.0, 99: 9.9498743710662, 98: 9.899494936611665, 97: 9.848857801796104, 96: 9.797958971132712, 95: 9.746794344808963, 94: 9.695359714832659, 93: 9.643650760992955, 92: 9.591663046625438, 91: 9.539392014169456, 90: 9.486832980505138, 89: 9.433981132056603, 88: 9.38083151964686, 87: 9.327379053088816, 86: 9.273618495495704, 85: 9.219544457292887, 84: 9.16515138991168, 83: 9.1104335791443, 82: 9.055385138137417, 81: 9.0, 80: 8.94427190999916, 79: 8.888194417315589, 78: 8.831760866327848, 77: 8.774964387392123, 76: 8.717797887081348, 75: 8.660254037844387, 74: 8.602325267042627, 73: 8.54400374531753, 72: 8.48528137423857, 71: 8.426149773176359, 70: 8.366600265340756, 69: 8.306623862918075, 68: 8.246211251235321, 67: 8.18535277187245, 66: 8.12403840463596, 65: 8.06225774829855, 64: 8.0, 63: 7.937253933193772, 62: 7.874007874011811, 61: 7.810249675906654, 60: 7.745966692414834, 59: 7.681145747868608, 58: 7.615773105863909, 57: 7.54983443527075, 56: 7.483314773547883, 55: 7.416198487095663, 54: 7.3484692283495345, 53: 7.280109889280518, 52: 7.211102550927978, 51: 7.14142842854285, 50: 7.0710678118654755, 49: 7.0, 48: 6.928203230275509, 47: 6.855654600401044, 46: 6.782329983125268, 45: 6.708203932499369, 44: 6.6332495807108, 43: 6.557438524302, 42: 6.48074069840786, 41: 6.4031242374328485, 40: 6.324555320336759, 39: 6.244997998398398, 38: 6.164414002968976, 37: 6.082762530298219, 36: 6.0, 35: 5.916079783099616, 34: 5.830951894845301, 33: 5.744562646538029, 32: 5.656854249492381, 31: 5.5677643628300215, 30: 5.477225575051661, 29: 5.385164807134504, 28: 5.291502622129181, 27: 5.196152422706632, 26: 5.0990195135927845, 25: 5.0, 24: 4.898979485566356, 23: 4.795831523312719, 22: 4.69041575982343, 21: 4.58257569495584, 20: 4.47213595499958, 19: 4.358898943540674, 18: 4.242640687119285, 17: 4.123105625617661, 16: 4.0, 15: 3.872983346207417, 14: 3.7416573867739413, 13: 3.605551275463989, 12: 3.4641016151377544, 11: 3.3166247903554, 10: 3.1622776601683795, 9: 3.0, 8: 2.8284271247461903, 7: 2.6457513110645907, 6: 2.449489742783178, 5: 2.23606797749979, 4: 2.0, 3: 1.7320508075688772, 2: 1.4142135623730951, 1: 1.0}\n"
     ]
    }
   ],
   "source": [
    "#write  a program to craete dict of square root of numbers from 1 by using comprehenstions\n",
    "sqr={x:x**0.5 for x in range (100,0,-1)}\n",
    "print (sqr)"
   ]
  },
  {
   "cell_type": "code",
   "execution_count": 13,
   "id": "e597204a-3c4a-44cb-aad3-85af934855e1",
   "metadata": {},
   "outputs": [
    {
     "name": "stdout",
     "output_type": "stream",
     "text": [
      "{'jane': 'python', 'jhone': 'python'}\n"
     ]
    }
   ],
   "source": [
    "#create dic developers that define name of developers jane this developer can work on python then next is jade, \n",
    "#can work on java script the jone can work on python , then joe can work on work on java script\n",
    "developer={'jane':'python','jade':'javascript','jhone':'python','doe':'javascript'}\n",
    "pyth_develop={key:developer [key] for key in developer if developer[key]=='python'}\n",
    "print(pyth_develop)"
   ]
  },
  {
   "cell_type": "code",
   "execution_count": 16,
   "id": "dc1b779f-eea2-493c-835b-ef7487f358b1",
   "metadata": {},
   "outputs": [
    {
     "name": "stdout",
     "output_type": "stream",
     "text": [
      "{'alize': 'ubuntu', 'charlis': 'ubuntu', 'eve': 'ubuntu'}\n"
     ]
    }
   ],
   "source": [
    "#create dicct where is are keys are admins and values are operating system then print only admins who manages ubuntuos\n",
    "admins={'alize':'ubuntu', 'bob':'windows', 'charlis':'ubuntu', 'davids': 'macos', 'eve':'ubuntu'}\n",
    "unu_admin={key:admins [key] for key in admins if admins [key]=='ubuntu'}\n",
    "print (unu_admin)"
   ]
  },
  {
   "cell_type": "code",
   "execution_count": 17,
   "id": "df2d7f9c-8a61-4aec-9030-76498c51be77",
   "metadata": {},
   "outputs": [
    {
     "name": "stdout",
     "output_type": "stream",
     "text": [
      "{'bob': 'windows'}\n"
     ]
    }
   ],
   "source": [
    "admins={'alize':'ubuntu', 'bob':'windows', 'charlis':'ubuntu', 'davids': 'macos', 'eve':'ubuntu'}\n",
    "unu_admin={key:admins [key] for key in admins if admins [key]=='windows'}\n",
    "print (unu_admin)"
   ]
  },
  {
   "cell_type": "code",
   "execution_count": null,
   "id": "0ebe9502-97cc-48fc-8665-c74d320cc252",
   "metadata": {},
   "outputs": [],
   "source": []
  }
 ],
 "metadata": {
  "kernelspec": {
   "display_name": "Python 3 (ipykernel)",
   "language": "python",
   "name": "python3"
  },
  "language_info": {
   "codemirror_mode": {
    "name": "ipython",
    "version": 3
   },
   "file_extension": ".py",
   "mimetype": "text/x-python",
   "name": "python",
   "nbconvert_exporter": "python",
   "pygments_lexer": "ipython3",
   "version": "3.12.5"
  }
 },
 "nbformat": 4,
 "nbformat_minor": 5
}
