{
 "cells": [
  {
   "cell_type": "code",
   "execution_count": 1,
   "id": "7975d715-5239-42fe-8a7b-9c585bec523f",
   "metadata": {},
   "outputs": [
    {
     "name": "stdout",
     "output_type": "stream",
     "text": [
      "1.26.4\n"
     ]
    }
   ],
   "source": [
    "#write a python code to check the version of numpy\n",
    "import numpy as np\n",
    "print(np.__version__)"
   ]
  },
  {
   "cell_type": "code",
   "execution_count": 3,
   "id": "a2aab92e-84e7-44fc-971f-d2cb9042d3b5",
   "metadata": {},
   "outputs": [
    {
     "name": "stdout",
     "output_type": "stream",
     "text": [
      "True\n",
      "False\n"
     ]
    }
   ],
   "source": [
    "#program to test if any of the elements of a given array are non zero\n",
    "import numpy as np\n",
    "x=np.array([1,0,0,0])\n",
    "print(np.any(x))\n",
    "x=np.array([0,0,0,0])\n",
    "print(np.any(x))"
   ]
  },
  {
   "cell_type": "code",
   "execution_count": 5,
   "id": "8c74f870-0b13-4407-ab43-70fcbc43a8bf",
   "metadata": {},
   "outputs": [
    {
     "name": "stdout",
     "output_type": "stream",
     "text": [
      "[ 1.  0. nan inf]\n",
      "test a given element wise for finiteness:\n",
      "[ True  True False False]\n"
     ]
    }
   ],
   "source": [
    "#program to test a given array element wise for finitness\n",
    "import numpy as np\n",
    "x=np.array([1,0,np.nan,np.inf])\n",
    "print(x)\n",
    "print(\"test a given element wise for finiteness:\")\n",
    "print(np.isfinite(x))"
   ]
  },
  {
   "cell_type": "code",
   "execution_count": 7,
   "id": "3b55c6df-566d-4f39-b996-4e8e32a0f4d6",
   "metadata": {},
   "outputs": [
    {
     "name": "stdout",
     "output_type": "stream",
     "text": [
      "[False False  True False False False]\n",
      "[False False False  True False False]\n"
     ]
    }
   ],
   "source": [
    "#program to test element wise positive or negative infinity\n",
    "import numpy as np\n",
    "array=np.array([1,-2,np.inf,-np.inf,0,3.5])\n",
    "result_pos_inf=np.isposinf(array)\n",
    "result_neg_inf=np.isneginf(array)\n",
    "print(result_pos_inf)\n",
    "print(result_neg_inf)\n"
   ]
  },
  {
   "cell_type": "code",
   "execution_count": 9,
   "id": "d10b033e-296e-4cb2-b79d-44e85feb856d",
   "metadata": {},
   "outputs": [
    {
     "name": "stdout",
     "output_type": "stream",
     "text": [
      "[30 32 34 36 38 40 42 44 46 48 50 52 54 56 58 60 62 64 66 68 70]\n"
     ]
    }
   ],
   "source": [
    "#program to create an array of integers from 30 to 70\n",
    "import numpy as np\n",
    "array=np.arange(30,71,2)\n",
    "print(array)"
   ]
  },
  {
   "cell_type": "code",
   "execution_count": 11,
   "id": "86e9d89c-bf0e-4963-b1c4-3c8a1810919d",
   "metadata": {},
   "outputs": [
    {
     "name": "stdout",
     "output_type": "stream",
     "text": [
      "[30 31 32 33 34 35 36 37 38 39 40 41 42 43 44 45 46 47 48 49 50 51 52 53\n",
      " 54 55 56 57 58 59 60 61 62 63 64 65 66 67 68 69 70]\n"
     ]
    }
   ],
   "source": [
    "#program to print array in range\n",
    "import numpy as np\n",
    "array=np.arange(30,71)\n",
    "print(array)"
   ]
  },
  {
   "cell_type": "code",
   "execution_count": 13,
   "id": "61cf8a24-c412-4e0e-854f-7516381d9bba",
   "metadata": {},
   "outputs": [
    {
     "name": "stdout",
     "output_type": "stream",
     "text": [
      "[[1. 0. 0.]\n",
      " [0. 1. 0.]\n",
      " [0. 0. 1.]]\n"
     ]
    }
   ],
   "source": [
    "#to create 3*3 identity matrix\n",
    "import numpy as np\n",
    "arr_2D=np.identity(3)\n",
    "print(arr_2D)"
   ]
  },
  {
   "cell_type": "code",
   "execution_count": 15,
   "id": "66391937-56c9-4577-babe-a453b043a03d",
   "metadata": {},
   "outputs": [
    {
     "name": "stdout",
     "output_type": "stream",
     "text": [
      "[[1 0 0 0 0]\n",
      " [0 2 0 0 0]\n",
      " [0 0 3 0 0]\n",
      " [0 0 0 4 0]\n",
      " [0 0 0 0 5]]\n"
     ]
    }
   ],
   "source": [
    "#to create a 5*5 zero matrix with element on the main diagonal equal to 1,2,3,4,5\n",
    "import numpy as np\n",
    "x=np.diag([1,2,3,4,5])\n",
    "print(x)"
   ]
  },
  {
   "cell_type": "code",
   "execution_count": 17,
   "id": "950298a9-07c6-4579-a04e-325cf9c4ccd9",
   "metadata": {},
   "outputs": [
    {
     "name": "stdout",
     "output_type": "stream",
     "text": [
      "[[3 1]\n",
      " [5 3]]\n",
      "To cross check\n",
      "[[3 1]\n",
      " [5 3]]\n"
     ]
    }
   ],
   "source": [
    "#program to generate a matrix product of 2 arrays\n",
    "import numpy as np\n",
    "x=[[1,0],[1,1]]\n",
    "y=[[3,1],[2,2]]\n",
    "print (np.dot(x,y))\n",
    "print(\"To cross check\")\n",
    "print(np.matmul(x,y))"
   ]
  },
  {
   "cell_type": "code",
   "execution_count": 19,
   "id": "1e026280-dafc-46ba-bc4d-36a5d173e8a2",
   "metadata": {},
   "outputs": [
    {
     "name": "stdout",
     "output_type": "stream",
     "text": [
      "Addition of matrix\n",
      "[[4 1]\n",
      " [3 3]]\n",
      "Subtraction of matrix\n",
      "[[-2 -1]\n",
      " [-1 -1]]\n"
     ]
    }
   ],
   "source": [
    "#program to generate a matrix product of 2 arrays\n",
    "import numpy as np\n",
    "x=[[1,0],[1,1]]\n",
    "y=[[3,1],[2,2]]\n",
    "print(\"Addition of matrix\")\n",
    "print(np.add(x,y))\n",
    "print(\"Subtraction of matrix\")\n",
    "print(np.subtract(x,y))"
   ]
  },
  {
   "cell_type": "code",
   "execution_count": 21,
   "id": "41db718a-7ca9-45fe-9b00-18238b5716e0",
   "metadata": {},
   "outputs": [
    {
     "name": "stdout",
     "output_type": "stream",
     "text": [
      "30.0\n"
     ]
    }
   ],
   "source": [
    "#w.p.p to find mean of 1D array\n",
    "import numpy as np\n",
    "arr=np.array([10,20,30,40,50])\n",
    "print(np.mean(arr))"
   ]
  },
  {
   "cell_type": "code",
   "execution_count": 23,
   "id": "d9ea683b-ab5d-4726-9e71-418de4f1c21e",
   "metadata": {},
   "outputs": [
    {
     "name": "stdout",
     "output_type": "stream",
     "text": [
      "[[10 30]\n",
      " [20 60]]\n",
      "mean of each column\n",
      "[15. 45.]\n",
      "mean of each row\n",
      "[20. 40.]\n"
     ]
    }
   ],
   "source": [
    "#to find mean of axis an array\n",
    "import numpy as np\n",
    "arr=np.array([[10,30],[20,60]])\n",
    "print(arr)\n",
    "print(\"mean of each column\")\n",
    "print(arr.mean(axis=0))\n",
    "print(\"mean of each row\")\n",
    "print(arr.mean(axis=1))"
   ]
  },
  {
   "cell_type": "code",
   "execution_count": 25,
   "id": "3567cc48-5ece-4957-b5c5-1ed6316e6482",
   "metadata": {},
   "outputs": [
    {
     "name": "stdout",
     "output_type": "stream",
     "text": [
      "[[10 20 30]\n",
      " [40 50 60]]\n"
     ]
    }
   ],
   "source": [
    "#to convert 1D to 2D array with 2 rows\n",
    "import numpy as np\n",
    "arr=np.array([10,20,30,40,50,60])\n",
    "arr_2D=arr.reshape(2,3)\n",
    "print(arr_2D)"
   ]
  },
  {
   "cell_type": "code",
   "execution_count": 27,
   "id": "fccb4733-177e-48b8-8a0b-41d0b9cbfddc",
   "metadata": {},
   "outputs": [
    {
     "name": "stdout",
     "output_type": "stream",
     "text": [
      "[0 1 2 3 4 5 6 7 8 9]\n"
     ]
    }
   ],
   "source": [
    "#create 1D array in range 0 to 9\n",
    "import numpy as np\n",
    "arr=np.arange(0,10)\n",
    "print(arr)"
   ]
  }
 ],
 "metadata": {
  "kernelspec": {
   "display_name": "Python 3 (ipykernel)",
   "language": "python",
   "name": "python3"
  },
  "language_info": {
   "codemirror_mode": {
    "name": "ipython",
    "version": 3
   },
   "file_extension": ".py",
   "mimetype": "text/x-python",
   "name": "python",
   "nbconvert_exporter": "python",
   "pygments_lexer": "ipython3",
   "version": "3.12.7"
  }
 },
 "nbformat": 4,
 "nbformat_minor": 5
}
