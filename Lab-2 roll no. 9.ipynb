{
 "cells": [
  {
   "cell_type": "code",
   "execution_count": 1,
   "id": "2e7ba730-e125-4de5-b203-5c491928d681",
   "metadata": {},
   "outputs": [
    {
     "name": "stdout",
     "output_type": "stream",
     "text": [
      "{1: 'python', 2: 'java', 3: 'c++'}\n"
     ]
    }
   ],
   "source": [
    "dict={1:\"python\",2:\"java\",3:\"c++\"}\n",
    "print(dict)\n"
   ]
  },
  {
   "cell_type": "code",
   "execution_count": 3,
   "id": "97a9f908-e2a8-4b46-bf99-a8c53ba988de",
   "metadata": {},
   "outputs": [
    {
     "name": "stdout",
     "output_type": "stream",
     "text": [
      "{1: 'apple', 2: 'mackbook'}\n",
      "2\n"
     ]
    }
   ],
   "source": [
    "my_dict1={1:'apple',2:'mackbook'}\n",
    "print(my_dict1)\n",
    "print(len(my_dict1))\n"
   ]
  },
  {
   "cell_type": "code",
   "execution_count": 5,
   "id": "71484cd2-000a-44b5-865f-d11f9a53dacc",
   "metadata": {},
   "outputs": [
    {
     "name": "stdout",
     "output_type": "stream",
     "text": [
      "python\n"
     ]
    }
   ],
   "source": [
    "my_dict={1:'python',2:'java',3:'c++',4:'c','L':\"Good Language\"}\n",
    "print(my_dict[1])"
   ]
  },
  {
   "cell_type": "code",
   "execution_count": 7,
   "id": "606c9d11-14d1-4a88-bb70-7ee89d1a4821",
   "metadata": {},
   "outputs": [
    {
     "name": "stdout",
     "output_type": "stream",
     "text": [
      "c++\n"
     ]
    }
   ],
   "source": [
    "my_dict={1:'python',2:'java',3:'c++',4:'c','L':\"Good Language\"}\n",
    "print(my_dict[3])"
   ]
  },
  {
   "cell_type": "code",
   "execution_count": 9,
   "id": "8512a972-33ca-49ed-9536-043f6a3b1111",
   "metadata": {},
   "outputs": [
    {
     "name": "stdout",
     "output_type": "stream",
     "text": [
      "{'name': 'arthur', 'age': 34}\n",
      "{'name': 'arthur', 'age': 34, 'address': 'downtown'}\n"
     ]
    }
   ],
   "source": [
    "my_dict={'name':'arthur','age':24}\n",
    "my_dict['age']=34\n",
    "print(my_dict)\n",
    "my_dict['address']='downtown'\n",
    "print(my_dict)"
   ]
  },
  {
   "cell_type": "code",
   "execution_count": 11,
   "id": "84b6bc0b-8a7a-4995-93e0-3904fc6db7e5",
   "metadata": {},
   "outputs": [
    {
     "name": "stdout",
     "output_type": "stream",
     "text": [
      "{1: 'arthur', 2: 'java', 3: 'c'}\n",
      "{1: 'arthur', 2: 'java', 3: 'c', 4: 'R programming'}\n",
      "{1: 'arthur', 2: 'java', 3: 'c', 4: 'R programming', 5: 'php'}\n"
     ]
    }
   ],
   "source": [
    "my_dict={1:'arthur',2:'java',3:'c'}\n",
    "print(my_dict)\n",
    "my_dict[4]='R programming'\n",
    "print(my_dict)\n",
    "my_dict[5]='php'\n",
    "print(my_dict)"
   ]
  },
  {
   "cell_type": "code",
   "execution_count": 13,
   "id": "a56a36dc-173f-4679-97a2-a879d71915f2",
   "metadata": {},
   "outputs": [
    {
     "name": "stdout",
     "output_type": "stream",
     "text": [
      "16\n",
      "{1: 1, 2: 4, 3: 9, 5: 25}\n",
      "(5, 25)\n",
      "{1: 1, 2: 4, 3: 9}\n"
     ]
    }
   ],
   "source": [
    "squares={1:1,2:4,3:9,4:16,5:25}\n",
    "print(squares.pop(4))\n",
    "print(squares)\n",
    "print(squares.popitem())\n",
    "print(squares)"
   ]
  },
  {
   "cell_type": "code",
   "execution_count": 15,
   "id": "95ade527-6cb7-4209-8586-3337f30d4718",
   "metadata": {},
   "outputs": [
    {
     "name": "stdout",
     "output_type": "stream",
     "text": [
      "{1: 'python', 2: 'java', 3: 'c++'}\n",
      "dict_items([(1, 'python'), (2, 'java'), (3, 'c++')])\n"
     ]
    }
   ],
   "source": [
    "dict1={1:\"python\",2:\"java\",3:\"c++\"}\n",
    "dict2=dict1.copy()\n",
    "print(dict2)\n",
    "print(dict1.items())"
   ]
  },
  {
   "cell_type": "code",
   "execution_count": 17,
   "id": "384dff42-5da7-4064-b80e-73a9da735665",
   "metadata": {},
   "outputs": [
    {
     "name": "stdout",
     "output_type": "stream",
     "text": [
      "{'python': 50, 'java': 50, 'c++': 50}\n"
     ]
    }
   ],
   "source": [
    "seq=('python','java','c++')\n",
    "my_dict=my_dict.fromkeys(seq,50)\n",
    "print(my_dict)"
   ]
  },
  {
   "cell_type": "code",
   "execution_count": 19,
   "id": "945bf3a0-4865-4d89-b341-b1385cb5044c",
   "metadata": {},
   "outputs": [
    {
     "name": "stdout",
     "output_type": "stream",
     "text": [
      "True\n",
      "False\n"
     ]
    }
   ],
   "source": [
    "dict1={1:1,2:4,3:9,4:16,5:25}\n",
    "print(1 in dict1)\n",
    "print(2 not in dict1)"
   ]
  },
  {
   "cell_type": "code",
   "execution_count": 21,
   "id": "30c089fd-46f2-4496-b17a-8027efe30f42",
   "metadata": {},
   "outputs": [
    {
     "name": "stdout",
     "output_type": "stream",
     "text": [
      "{'banana', 'cherry', 'orange', 'apple'}\n",
      "{'banana', 'cherry', 'orange', 'apple'}\n",
      "set()\n"
     ]
    }
   ],
   "source": [
    "fruits={\"apple\",'banana','cherry'}\n",
    "fruits.add(\"orange\")\n",
    "print(fruits)\n",
    "fruits.add(\"apple\")\n",
    "print(fruits)\n",
    "fruits.clear()\n",
    "print(fruits)"
   ]
  },
  {
   "cell_type": "code",
   "execution_count": 23,
   "id": "12f1b42b-934a-427a-bb47-0b2cf72e0e70",
   "metadata": {},
   "outputs": [
    {
     "name": "stdout",
     "output_type": "stream",
     "text": [
      "{'cherry'}\n"
     ]
    }
   ],
   "source": [
    "x={\"apple\",'banana','cherry'}\n",
    "y={\"orange\",\"apple\",'banana','apple'}\n",
    "z=x-y\n",
    "print(z)"
   ]
  }
 ],
 "metadata": {
  "kernelspec": {
   "display_name": "Python 3 (ipykernel)",
   "language": "python",
   "name": "python3"
  },
  "language_info": {
   "codemirror_mode": {
    "name": "ipython",
    "version": 3
   },
   "file_extension": ".py",
   "mimetype": "text/x-python",
   "name": "python",
   "nbconvert_exporter": "python",
   "pygments_lexer": "ipython3",
   "version": "3.12.7"
  }
 },
 "nbformat": 4,
 "nbformat_minor": 5
}
