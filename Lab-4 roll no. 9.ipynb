{
 "cells": [
  {
   "cell_type": "code",
   "execution_count": 1,
   "id": "c4418882-38e5-43fd-ad1a-47c4f8ab652e",
   "metadata": {},
   "outputs": [
    {
     "name": "stdin",
     "output_type": "stream",
     "text": [
      "Enter a number: 4\n",
      "Enter another number: 10\n"
     ]
    },
    {
     "name": "stdout",
     "output_type": "stream",
     "text": [
      "10 is a greater number\n"
     ]
    }
   ],
   "source": [
    "#IF-ELSE STATEMENT\n",
    "a=int(input(\"Enter a number:\"))\n",
    "b=int(input(\"Enter another number:\"))\n",
    "if a>b:\n",
    "    print(a,\"is a greater number\")\n",
    "else:\n",
    "    print(b,\"is a greater number\")"
   ]
  },
  {
   "cell_type": "code",
   "execution_count": 3,
   "id": "51ae4b8b-1b67-4c12-85a6-e3ffffd03b76",
   "metadata": {},
   "outputs": [
    {
     "name": "stdin",
     "output_type": "stream",
     "text": [
      "Enter your age: 52\n"
     ]
    },
    {
     "name": "stdout",
     "output_type": "stream",
     "text": [
      "You are eligible to Vote\n",
      "There are -34 years left to be eligible to vote\n"
     ]
    }
   ],
   "source": [
    "#CHECK ELIGIBILITY\n",
    "a=int(input(\"Enter your age:\"))\n",
    "if a>18:\n",
    "    print(\"You are eligible to Vote\")\n",
    "else:\n",
    "    print(\"You are not eligible to Vote\")\n",
    "left=18-a\n",
    "print(f\"There are {left} years left to be eligible to vote\")"
   ]
  },
  {
   "cell_type": "code",
   "execution_count": 5,
   "id": "0dda6fce-1cd6-44f4-87c1-b412aacb595f",
   "metadata": {},
   "outputs": [
    {
     "name": "stdin",
     "output_type": "stream",
     "text": [
      "Enter 1st number 10\n",
      "Enter 2nd number 25\n",
      "Enter 3rd number 23\n"
     ]
    },
    {
     "name": "stdout",
     "output_type": "stream",
     "text": [
      "25 is the greatest number\n"
     ]
    }
   ],
   "source": [
    "#IF-ELIF-ELSE STATEMENT\n",
    "a=int(input(\"Enter 1st number\"))\n",
    "b=int(input(\"Enter 2nd number\"))\n",
    "c=int(input(\"Enter 3rd number\"))\n",
    "if a>b and a>c:\n",
    "    print(a,\"is the greatest number\")\n",
    "elif b>a and b>c:\n",
    "    print(b,\"is the greatest number\")\n",
    "else:\n",
    "    print(c,\"is the greatest number\")"
   ]
  },
  {
   "cell_type": "code",
   "execution_count": 7,
   "id": "fbdbd0f7-899d-4c65-a787-78f596eb127a",
   "metadata": {},
   "outputs": [
    {
     "name": "stdin",
     "output_type": "stream",
     "text": [
      "Enter a number: 25\n"
     ]
    },
    {
     "name": "stdout",
     "output_type": "stream",
     "text": [
      "25 ranges between 20 to 30\n"
     ]
    }
   ],
   "source": [
    "#COMPOUND STATEMENT\n",
    "a=int(input(\"Enter a number:\"))\n",
    "if a<=10:\n",
    "    print(a,\"ranges between 0 to 10\")\n",
    "if a>0 and a<=20:\n",
    "    print(a,\"ranges between 10 to 20\")    \n",
    "if a>20 and a<=30:\n",
    "    print(a,\"ranges between 20 to 30\")    \n",
    "if a>30:\n",
    "    print(a,\"ranges above 30\")"
   ]
  },
  {
   "cell_type": "code",
   "execution_count": 9,
   "id": "3da1445d-715b-4861-a79b-c3c92e80c42d",
   "metadata": {},
   "outputs": [
    {
     "name": "stdin",
     "output_type": "stream",
     "text": [
      "Enter num1: 26\n",
      "Enter num2: 56\n",
      "Enter num3: 98\n"
     ]
    },
    {
     "name": "stdout",
     "output_type": "stream",
     "text": [
      "All numbers are same\n"
     ]
    }
   ],
   "source": [
    "#NESTED-IF\n",
    "num1=int(input(\"Enter num1:\"))\n",
    "num2=int(input(\"Enter num2:\"))\n",
    "num3=int(input(\"Enter num3:\"))\n",
    "if (num1>num2):\n",
    "    if (num1>num3):\n",
    "        print(num1,\"is the greatest\")\n",
    "    else:\n",
    "        print(num3,\"is the greatest\")\n",
    "\n",
    "elif (num2>num3):\n",
    "    print(num2,\"is the greatest\")\n",
    "\n",
    "else:\n",
    "    print(\"All numbers are same\")"
   ]
  },
  {
   "cell_type": "code",
   "execution_count": 11,
   "id": "7a686b72-7a5b-4f88-8e34-925fed11c755",
   "metadata": {},
   "outputs": [
    {
     "name": "stdout",
     "output_type": "stream",
     "text": [
      "0\n",
      "1\n",
      "2\n",
      "3\n",
      "4\n",
      "5\n",
      "6\n",
      "7\n",
      "8\n",
      "9\n",
      "10\n"
     ]
    }
   ],
   "source": [
    "#WHILE LOOP\n",
    "i=0\n",
    "while(i<=10):\n",
    "    print(i)\n",
    "    i+=1"
   ]
  }
 ],
 "metadata": {
  "kernelspec": {
   "display_name": "Python 3 (ipykernel)",
   "language": "python",
   "name": "python3"
  },
  "language_info": {
   "codemirror_mode": {
    "name": "ipython",
    "version": 3
   },
   "file_extension": ".py",
   "mimetype": "text/x-python",
   "name": "python",
   "nbconvert_exporter": "python",
   "pygments_lexer": "ipython3",
   "version": "3.12.7"
  }
 },
 "nbformat": 4,
 "nbformat_minor": 5
}
