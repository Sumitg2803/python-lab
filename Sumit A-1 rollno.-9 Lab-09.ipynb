{
 "cells": [
  {
   "cell_type": "code",
   "execution_count": 1,
   "id": "e36655ae-a522-46e8-a8aa-af0f568ed2a9",
   "metadata": {},
   "outputs": [
    {
     "name": "stdout",
     "output_type": "stream",
     "text": [
      "Generic Animal makes a sound\n",
      "Buddy barks\n"
     ]
    }
   ],
   "source": [
    "class Animal:\n",
    "    def __init__(self,name):\n",
    "        self.name=name\n",
    "    def speak(self):\n",
    "        print(F\"{self.name} makes a sound\")\n",
    "class Dog(Animal):\n",
    "    def speak(self):\n",
    "        print(F\"{self.name} barks\")\n",
    "a=Animal(\"Generic Animal\")        \n",
    "a.speak()\n",
    "d=Dog(\"Buddy\")\n",
    "d.speak()"
   ]
  },
  {
   "cell_type": "code",
   "execution_count": 3,
   "id": "6461cbc2-13af-45f8-b0bd-678d0a74c380",
   "metadata": {},
   "outputs": [
    {
     "name": "stdout",
     "output_type": "stream",
     "text": [
      "Generic Animal makes a sound\n",
      "Buddy barks\n",
      "Bat makes a sound\n",
      "Bat sleeps\n",
      "Bird fies\n"
     ]
    }
   ],
   "source": [
    "class Animal:\n",
    "    def __init__(self,name):\n",
    "        self.name=name\n",
    "    def speak(self):\n",
    "        print(F\"{self.name} makes a sound\")\n",
    "class Dog(Animal):\n",
    "    def speak(self):\n",
    "        print(F\"{self.name} barks\")\n",
    "a=Animal(\"Generic Animal\")        \n",
    "a.speak()\n",
    "d=Dog(\"Buddy\")\n",
    "d.speak()\n",
    "class Bird():\n",
    "    def fly(self):\n",
    "        print(\"Bird fies\")\n",
    "class Bat(Animal,Bird):\n",
    "    def sleep(self):\n",
    "        print(\"Bat sleeps\")\n",
    "bat=Bat(\"Bat\")\n",
    "bat.speak()\n",
    "bat.sleep()\n",
    "bat.fly()"
   ]
  },
  {
   "cell_type": "code",
   "execution_count": 5,
   "id": "ec5d746f-ad1c-4c52-bfb2-df1540b74cc6",
   "metadata": {},
   "outputs": [
    {
     "name": "stdout",
     "output_type": "stream",
     "text": [
      "Area:50\n",
      "Area:78.5\n"
     ]
    }
   ],
   "source": [
    "class Rectangle:\n",
    "    def __init__(self,length,breadth):\n",
    "        self.length=length\n",
    "        self.breadth=breadth\n",
    "    def area(self):\n",
    "        return self.length*self.breadth\n",
    "class Circle:\n",
    "    def __init__(self,radius):\n",
    "         self.radius=radius\n",
    "    def area(self):\n",
    "         return 3.14*self.radius*self.radius\n",
    "def print_area(shape):\n",
    "    print(f\"Area:{shape.area()}\")\n",
    "rectangle=Rectangle(10,5)\n",
    "circle=Circle(5)\n",
    "print_area(rectangle)\n",
    "print_area(circle)"
   ]
  },
  {
   "cell_type": "code",
   "execution_count": 7,
   "id": "2017b4d8-39bf-4038-83cc-1a5de7606a57",
   "metadata": {},
   "outputs": [
    {
     "name": "stdout",
     "output_type": "stream",
     "text": [
      "Hello,this is firstline,\n",
      "This is secondline\n"
     ]
    }
   ],
   "source": [
    "f=open(\"example1.txt\",\"w\")\n",
    "f.write(\"Hello,this is firstline,\\n\")\n",
    "f.write(\"This is secondline\")\n",
    "f.close()\n",
    "f=open(\"example1.txt\",\"r\")\n",
    "content=f.read()\n",
    "print(content)"
   ]
  },
  {
   "cell_type": "code",
   "execution_count": 9,
   "id": "780949de-7448-4da3-b750-cebaea33a71e",
   "metadata": {},
   "outputs": [
    {
     "name": "stdout",
     "output_type": "stream",
     "text": [
      "line1\n",
      "line2\n",
      "line3\n",
      "\n"
     ]
    }
   ],
   "source": [
    "data=[\"line1\",\"line2\",\"line3\"]\n",
    "f=open(\"list_example.txt\",\"w\")\n",
    "for item in data:\n",
    "    f.write(item+\"\\n\")\n",
    "f.close()\n",
    "f=open(\"list_example.txt\",\"r\")\n",
    "content=f.read()\n",
    "print(content)"
   ]
  }
 ],
 "metadata": {
  "kernelspec": {
   "display_name": "Python 3 (ipykernel)",
   "language": "python",
   "name": "python3"
  },
  "language_info": {
   "codemirror_mode": {
    "name": "ipython",
    "version": 3
   },
   "file_extension": ".py",
   "mimetype": "text/x-python",
   "name": "python",
   "nbconvert_exporter": "python",
   "pygments_lexer": "ipython3",
   "version": "3.12.7"
  }
 },
 "nbformat": 4,
 "nbformat_minor": 5
}
