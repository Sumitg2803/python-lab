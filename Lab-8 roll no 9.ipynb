{
 "cells": [
  {
   "cell_type": "code",
   "execution_count": 3,
   "id": "9279d148-c65c-4802-8174-c5b9a9d38ff1",
   "metadata": {},
   "outputs": [
    {
     "name": "stdout",
     "output_type": "stream",
     "text": [
      "1.26.4\n"
     ]
    }
   ],
   "source": [
    "#To Check version of numpy \n",
    "import numpy as np \n",
    "print(np.__version__)"
   ]
  },
  {
   "cell_type": "code",
   "execution_count": 5,
   "id": "8c006999-c928-4365-b6f2-ea7735397772",
   "metadata": {},
   "outputs": [
    {
     "name": "stdout",
     "output_type": "stream",
     "text": [
      "True\n",
      "False\n"
     ]
    }
   ],
   "source": [
    "#To Find any non-zero elements in an array \n",
    "import numpy as np \n",
    "x=np.array([1,0,0,0]) \n",
    "print(np.any(x)) \n",
    "y=np.array([0,0,0,0]) \n",
    "print(np.any(y))"
   ]
  },
  {
   "cell_type": "code",
   "execution_count": 7,
   "id": "fe4c232f-f870-4a86-9288-30d2af156895",
   "metadata": {},
   "outputs": [
    {
     "name": "stdout",
     "output_type": "stream",
     "text": [
      "[ 1.  8. nan inf]\n",
      "Test the finiteness of elements of an array:\n",
      "[ True  True False False]\n"
     ]
    }
   ],
   "source": [
    "#To Find Finiteness of an array \n",
    "import numpy as np \n",
    "x=np.array([1,8,np.nan, np.inf]) \n",
    "print(x) \n",
    "print(\"Test the finiteness of elements of an array:\") \n",
    "print(np.isfinite(x))"
   ]
  },
  {
   "cell_type": "code",
   "execution_count": 17,
   "id": "21624f02-d429-49ca-ac90-66b3dee6ad68",
   "metadata": {},
   "outputs": [
    {
     "name": "stdout",
     "output_type": "stream",
     "text": [
      "[False False  True False False False]\n",
      "[False False False  True False False]\n"
     ]
    }
   ],
   "source": [
    "#To Test element-wise positive or negative infinity \n",
    "import numpy as np \n",
    "x=np.array([1,-2, np.inf,-np.inf, 0,3.5]) \n",
    "result_posinf=np.isposinf(x) \n",
    "result_neginf=np.isneginf(x) \n",
    "print(result_posinf) \n",
    "print(result_neginf)"
   ]
  },
  {
   "cell_type": "code",
   "execution_count": 21,
   "id": "b862467b-b484-4b88-867f-53a800826678",
   "metadata": {},
   "outputs": [
    {
     "name": "stdout",
     "output_type": "stream",
     "text": [
      "[30 31 32 33 34 35 36 37 38 39 40 41 42 43 44 45 46 47 48 49 50 51 52 53\n",
      " 54 55 56 57 58 59 60 61 62 63 64 65 66 67 68 69 70]\n"
     ]
    }
   ],
   "source": [
    "#To print an array in a range\n",
    "\n",
    "import numpy as np\n",
    "\n",
    "arr=np.arange(30,71)\n",
    "\n",
    "print(arr)"
   ]
  },
  {
   "cell_type": "code",
   "execution_count": 23,
   "id": "e6f4af61-8f2a-4a78-9a70-ad9827e39c5e",
   "metadata": {},
   "outputs": [
    {
     "name": "stdout",
     "output_type": "stream",
     "text": [
      "[30 32 34 36 38 40 42 44 46 48 50 52 54 56 58 60 62 64 66 68 70]\n"
     ]
    }
   ],
   "source": [
    "#To print an array of even numbers in a range\n",
    "\n",
    "import numpy as np\n",
    "\n",
    "arr=np.arange(30,71,2)\n",
    "\n",
    "print(arr)"
   ]
  },
  {
   "cell_type": "code",
   "execution_count": 25,
   "id": "59a433bd-cec2-4c84-a94f-82ceccc5c842",
   "metadata": {},
   "outputs": [
    {
     "name": "stdout",
     "output_type": "stream",
     "text": [
      "[[1. 0. 0.]\n",
      " [0. 1. 0.]\n",
      " [0. 0. 1.]]\n"
     ]
    }
   ],
   "source": [
    "#To print a 3x3 identity matrix \n",
    "import numpy as np \n",
    "arr=np.identity(3)\n",
    "\n",
    "print(arr)"
   ]
  },
  {
   "cell_type": "code",
   "execution_count": 27,
   "id": "32d43e78-6937-4809-a6fa-468844de73ac",
   "metadata": {},
   "outputs": [
    {
     "name": "stdout",
     "output_type": "stream",
     "text": [
      "[[1 0 0 0 0]\n",
      " [0 2 0 0 0]\n",
      " [0 0 3 0 0]\n",
      " [0 0 0 4 0]\n",
      " [0 0 0 0 5]]\n"
     ]
    }
   ],
   "source": [
    "#To create a 5x5 diagonal matrix\n",
    "\n",
    "import numpy as np\n",
    "\n",
    "arr=np.diag([1,2,3,4,5])\n",
    "\n",
    "print(arr)"
   ]
  },
  {
   "cell_type": "code",
   "execution_count": 29,
   "id": "32c91f64-67d8-4ba7-b3ff-0f343a9d2e92",
   "metadata": {},
   "outputs": [
    {
     "name": "stdout",
     "output_type": "stream",
     "text": [
      "Matrix Products\n",
      "[[3 1]\n",
      " [5 3]]\n",
      "To cross-check\n",
      "[[3 1]\n",
      " [5 3]]\n",
      "Matrix addition\n",
      "[[4 1]\n",
      " [3 3]]\n",
      "Matrix Subtraction\n",
      "[[-2 -1]\n",
      " [-1 -1]]\n"
     ]
    }
   ],
   "source": [
    "#To generate a matrix prroducts of two arrays \n",
    "import numpy as np \n",
    "x=np.array([[1,0], [1,1]]) \n",
    "y=np.array([[3,1],[2,2]]) \n",
    "print(\"Matrix Products\") \n",
    "print(np.dot(x,y)) \n",
    "print(\"To cross-check\") \n",
    "print(np.matmul(x,y)) \n",
    "print(\"Matrix addition\") \n",
    "print(np.add(x,y)) \n",
    "print(\"Matrix Subtraction\") \n",
    "print(np.subtract(x,y))"
   ]
  },
  {
   "cell_type": "code",
   "execution_count": 31,
   "id": "0bf4169d-1fed-4485-81a4-bde2ebf6da63",
   "metadata": {},
   "outputs": [
    {
     "name": "stdout",
     "output_type": "stream",
     "text": [
      "30.0\n"
     ]
    }
   ],
   "source": [
    "#To find mean of an array \n",
    "import numpy as np \n",
    "arr=np.array([10,20,30,40,50]) \n",
    "print(np.mean(arr))"
   ]
  },
  {
   "cell_type": "code",
   "execution_count": 33,
   "id": "ba435535-190d-4b17-8d67-7b278e6b2f84",
   "metadata": {},
   "outputs": [
    {
     "name": "stdout",
     "output_type": "stream",
     "text": [
      "[[10 30]\n",
      " [20 60]]\n",
      "Mean of Each Column\n",
      "[15. 45.]\n",
      "Mean of Each Rows\n",
      "[20. 40.]\n"
     ]
    }
   ],
   "source": [
    "#To find mean of axis of an array\n",
    "\n",
    "import numpy as np \n",
    "arr=np.array([[10,30], [20,60]]) \n",
    "print(arr) \n",
    "print(\"Mean of Each Column\") \n",
    "print(arr.mean(axis=0)) \n",
    "print(\"Mean of Each Rows\")\n",
    "\n",
    "print(arr.mean(axis=1))"
   ]
  },
  {
   "cell_type": "code",
   "execution_count": 37,
   "id": "27db6fa3-85b5-4a59-9034-2f277dc54426",
   "metadata": {},
   "outputs": [
    {
     "name": "stdout",
     "output_type": "stream",
     "text": [
      "[0 1 2 3 4 5 6 7 8 9]\n"
     ]
    }
   ],
   "source": [
    "#To create an array in a range \n",
    "import numpy as np\n",
    "\n",
    "arr=np.arange(0,10) \n",
    "print(arr)"
   ]
  },
  {
   "cell_type": "code",
   "execution_count": 41,
   "id": "ddd6cb19-6138-4763-8a2b-8812aab99200",
   "metadata": {},
   "outputs": [
    {
     "ename": "SyntaxError",
     "evalue": "invalid decimal literal (1820174147.py, line 17)",
     "output_type": "error",
     "traceback": [
      "\u001b[1;36m  Cell \u001b[1;32mIn[41], line 17\u001b[1;36m\u001b[0m\n\u001b[1;33m    print(arr 3D)\u001b[0m\n\u001b[1;37m              ^\u001b[0m\n\u001b[1;31mSyntaxError\u001b[0m\u001b[1;31m:\u001b[0m invalid decimal literal\n"
     ]
    }
   ],
   "source": [
    "#To convert 10 array to 20 array import numpy as np\n",
    "\n",
    "arr=np.array([10,20,30,40,50,60]) arr_2D=arr.reshape(2,3)\n",
    "\n",
    "arr_3D=arr.reshape(3,1,2)\n",
    "\n",
    "print(\"Original 10 array:\")\n",
    "\n",
    "print(arr)\n",
    "\n",
    "print(\"20 aray thus created:\")\n",
    "\n",
    "print(arr_2D)\n",
    "\n",
    "print(\"30 array created:\")\n",
    "\n",
    "print(arr 3D)"
   ]
  }
 ],
 "metadata": {
  "kernelspec": {
   "display_name": "Python 3 (ipykernel)",
   "language": "python",
   "name": "python3"
  },
  "language_info": {
   "codemirror_mode": {
    "name": "ipython",
    "version": 3
   },
   "file_extension": ".py",
   "mimetype": "text/x-python",
   "name": "python",
   "nbconvert_exporter": "python",
   "pygments_lexer": "ipython3",
   "version": "3.12.7"
  }
 },
 "nbformat": 4,
 "nbformat_minor": 5
}
