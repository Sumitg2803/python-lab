{
 "cells": [
  {
   "cell_type": "code",
   "execution_count": 1,
   "id": "af41f314-3a29-4e5c-9209-57c2d9577517",
   "metadata": {},
   "outputs": [
    {
     "name": "stdout",
     "output_type": "stream",
     "text": [
      "Element 9 found at index 4\n"
     ]
    }
   ],
   "source": [
    "#LINEAR SEARCH ALGORITHM\n",
    "arr=[4,2,7,1,9,3,5]\n",
    "target=9\n",
    "found=False\n",
    "for i in range(len(arr)):\n",
    "    if arr[i]==target:\n",
    "        print(f\"Element {target} found at index {i}\")\n",
    "        found=True\n",
    "        break\n",
    "else:\n",
    "    print(F\"Element {target} is not in array\")"
   ]
  },
  {
   "cell_type": "code",
   "execution_count": 3,
   "id": "cd993f74-d3c1-46c7-a9a4-1922b4ee1f63",
   "metadata": {},
   "outputs": [
    {
     "name": "stdin",
     "output_type": "stream",
     "text": [
      "Enter number of elements: 3\n",
      " 2\n",
      " 5\n",
      " 8\n"
     ]
    },
    {
     "name": "stdout",
     "output_type": "stream",
     "text": [
      "List: [2, 5, 8]\n"
     ]
    },
    {
     "name": "stdin",
     "output_type": "stream",
     "text": [
      "Enter the target: 5\n"
     ]
    },
    {
     "name": "stdout",
     "output_type": "stream",
     "text": [
      "Element 5 found at index 1\n"
     ]
    }
   ],
   "source": [
    "#WITH USER INPUT\n",
    "lst=[]\n",
    "n=int(input(\"Enter number of elements:\"))\n",
    "for j in range(0,n):\n",
    "    element=int(input())\n",
    "    lst.append(element)\n",
    "print(\"List:\",lst)\n",
    "target=int(input(\"Enter the target:\"))\n",
    "found=False\n",
    "\n",
    "for i in range(len(lst)):\n",
    "    if lst[i]==target:\n",
    "        print(f\"Element {target} found at index {i}\")\n",
    "        found=True\n",
    "        break\n",
    "else:\n",
    "    print(F\"Element {target} is not in array\")"
   ]
  },
  {
   "cell_type": "code",
   "execution_count": 5,
   "id": "7a5a80b9-8f9e-4ea8-ab74-a2c361b61a6a",
   "metadata": {},
   "outputs": [
    {
     "name": "stdout",
     "output_type": "stream",
     "text": [
      "Element 2 is not in array\n"
     ]
    }
   ],
   "source": [
    "#BINARY SEARCH ALGORITHM\n",
    "arr=[1,3,5,7,9,11,13,15,17,19]\n",
    "low=0\n",
    "high=len(arr)-1\n",
    "target=2\n",
    "found=False\n",
    "\n",
    "while(low<=high):\n",
    "    mid=(low+high)//2\n",
    "    if arr[mid]==target:\n",
    "        print(f\"Element {target} is found at index {mid}\")\n",
    "        break\n",
    "    elif arr[mid]<target:\n",
    "        low=mid+1\n",
    "    else:\n",
    "        high=mid-1\n",
    "else:\n",
    "    print(f\"Element {target} is not in array\")"
   ]
  }
 ],
 "metadata": {
  "kernelspec": {
   "display_name": "Python 3 (ipykernel)",
   "language": "python",
   "name": "python3"
  },
  "language_info": {
   "codemirror_mode": {
    "name": "ipython",
    "version": 3
   },
   "file_extension": ".py",
   "mimetype": "text/x-python",
   "name": "python",
   "nbconvert_exporter": "python",
   "pygments_lexer": "ipython3",
   "version": "3.12.7"
  }
 },
 "nbformat": 4,
 "nbformat_minor": 5
}
