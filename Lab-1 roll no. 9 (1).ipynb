{
 "cells": [
  {
   "cell_type": "code",
   "execution_count": 1,
   "id": "af9bafc0-ef4c-47fa-aa5a-c06888b9b357",
   "metadata": {},
   "outputs": [
    {
     "name": "stdout",
     "output_type": "stream",
     "text": [
      "sum: 22\n"
     ]
    }
   ],
   "source": [
    "a=10\n",
    "b=12\n",
    "print('sum:',a+b)"
   ]
  },
  {
   "cell_type": "code",
   "execution_count": 3,
   "id": "f77dcc61-e312-4a6f-9549-d6654533a2c8",
   "metadata": {},
   "outputs": [
    {
     "name": "stdout",
     "output_type": "stream",
     "text": [
      "subtraction: 6\n"
     ]
    }
   ],
   "source": [
    "a=8\n",
    "b=2\n",
    "print('subtraction:',a-b)"
   ]
  },
  {
   "cell_type": "code",
   "execution_count": 5,
   "id": "9e083e8b-bfbc-4235-baec-30e598954f39",
   "metadata": {},
   "outputs": [
    {
     "name": "stdout",
     "output_type": "stream",
     "text": [
      "multiplication: 0\n"
     ]
    }
   ],
   "source": [
    "a=0\n",
    "b=12\n",
    "print('multiplication:',a*b)"
   ]
  },
  {
   "cell_type": "code",
   "execution_count": 7,
   "id": "c90c70a1-7f60-4f5d-b773-65cc629589a7",
   "metadata": {},
   "outputs": [
    {
     "name": "stdout",
     "output_type": "stream",
     "text": [
      "division: 4.0\n"
     ]
    }
   ],
   "source": [
    "a=8\n",
    "b=2\n",
    "print('division:',a/b)"
   ]
  },
  {
   "cell_type": "code",
   "execution_count": 9,
   "id": "eb80a1b4-7f02-450d-9958-244f3f293321",
   "metadata": {},
   "outputs": [
    {
     "name": "stdout",
     "output_type": "stream",
     "text": [
      "False\n",
      "True\n",
      "True\n",
      "False\n",
      "True\n",
      "False\n"
     ]
    }
   ],
   "source": [
    "a=100 \n",
    "b=20\n",
    "print(a==b)\n",
    "print(a!=b)\n",
    "print(a>b)\n",
    "print(a<b)\n",
    "print(a>=b)\n",
    "print(a<=b)\n"
   ]
  },
  {
   "cell_type": "code",
   "execution_count": 11,
   "id": "b1036adb-d5a7-4533-9e59-5362f817e3c9",
   "metadata": {},
   "outputs": [
    {
     "name": "stdout",
     "output_type": "stream",
     "text": [
      "50\n",
      "70\n",
      "50\n",
      "1000\n",
      "50.0\n",
      "10.0\n",
      "0.0\n"
     ]
    }
   ],
   "source": [
    "a=50\n",
    "b=20\n",
    "print(a)\n",
    "a+=b\n",
    "print(a)\n",
    "a-=b\n",
    "\n",
    "print(a)\n",
    "a*=b\n",
    "print(a)\n",
    "a/=b\n",
    "print(a)\n",
    "a%=b\n",
    "print(a)\n",
    "a//=b\n",
    "print(a)\n",
    "a**=b"
   ]
  }
 ],
 "metadata": {
  "kernelspec": {
   "display_name": "Python 3 (ipykernel)",
   "language": "python",
   "name": "python3"
  },
  "language_info": {
   "codemirror_mode": {
    "name": "ipython",
    "version": 3
   },
   "file_extension": ".py",
   "mimetype": "text/x-python",
   "name": "python",
   "nbconvert_exporter": "python",
   "pygments_lexer": "ipython3",
   "version": "3.12.7"
  }
 },
 "nbformat": 4,
 "nbformat_minor": 5
}
